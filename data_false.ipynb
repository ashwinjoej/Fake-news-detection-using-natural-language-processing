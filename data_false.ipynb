{
 "cells": [
  {
   "cell_type": "code",
   "execution_count": 20,
   "metadata": {},
   "outputs": [],
   "source": [
    "# scrapping real and fake news data from politifact.com\n"
   ]
  },
  {
   "cell_type": "code",
   "execution_count": 1,
   "metadata": {},
   "outputs": [],
   "source": [
    "#import the libraries\n",
    "from bs4 import BeautifulSoup\n",
    "import pandas as pd\n",
    "import requests\n",
    "import urllib.request\n",
    "import time"
   ]
  },
  {
   "cell_type": "code",
   "execution_count": 2,
   "metadata": {},
   "outputs": [],
   "source": [
    "#list to store the scrapped data\n",
    "authors=[]\n",
    "dates=[]\n",
    "facts=[]\n",
    "source=[]\n",
    "targets=[]"
   ]
  },
  {
   "cell_type": "code",
   "execution_count": 3,
   "metadata": {},
   "outputs": [],
   "source": [
    "#create a function to scrape the website\n",
    "def scrape_website(page_number):\n",
    "    page_num=str(page_number)\n",
    "    URL='https://www.politifact.com/factchecks/list/?ruling=pants-fire'\n",
    "    webpage=requests.get(URL)\n",
    "    soup=BeautifulSoup(webpage.text,'html.parser')\n",
    "    #Get the location of datas\n",
    "    statement_footer=soup.find_all('footer',attrs={'class':'m-statement__footer'})#Location of the author\n",
    "    statement_quote=soup.find_all('div',attrs={'class':'m-statement__quote'})# location of the fact\n",
    "    statement_meta=soup.find_all('div',attrs={'class':'m-statement__meta'})# location of sorce\n",
    "    statement_meter=soup.find_all('div',attrs={'class':'m-statement__meter'})# location of target\n",
    "    #Loop the statement__footer\n",
    "    for i in statement_footer:\n",
    "        link1=i.text.strip()\n",
    "        name_and_date=link1.split()\n",
    "        first_name=name_and_date[1]\n",
    "        last_name=name_and_date[2]\n",
    "        full_name=first_name+''+last_name\n",
    "        month=name_and_date[4]\n",
    "        day=name_and_date[5]\n",
    "        year=name_and_date[6]\n",
    "        date=month+''+year\n",
    "        dates.append(date)\n",
    "        authors.append(full_name)\n",
    "        #Loop the statement_quote\n",
    "        for i in statement_quote:\n",
    "            link2=i.find_all('a')\n",
    "            fact_text=link2[0].text.strip()\n",
    "            facts.append(fact_text)\n",
    "        #Loop the statement__meta\n",
    "        for i in statement_meta:\n",
    "            link3=i.find_all('a')\n",
    "            source_text=link3[0].text.strip()\n",
    "            source.append(source_text)\n",
    "        #Loop the target\n",
    "        for i in targets:\n",
    "            link4=i.find_all('div',attrs={'class':'c-image'}).find('img').get('alt')\n",
    "            target_text=link4[0].text.strip()\n",
    "            targets.append(target_text)\n",
    "        "
   ]
  },
  {
   "cell_type": "code",
   "execution_count": 4,
   "metadata": {
    "scrolled": false
   },
   "outputs": [
    {
     "name": "stdout",
     "output_type": "stream",
     "text": [
      "[]\n"
     ]
    }
   ],
   "source": [
    "print(targets)"
   ]
  },
  {
   "cell_type": "code",
   "execution_count": 5,
   "metadata": {},
   "outputs": [
    {
     "name": "stdout",
     "output_type": "stream",
     "text": [
      "[]\n"
     ]
    }
   ],
   "source": [
    "print(source)"
   ]
  },
  {
   "cell_type": "code",
   "execution_count": 18,
   "metadata": {},
   "outputs": [],
   "source": [
    "#Loop the \"n-1\" webpages to scrap the data\n",
    "\n",
    "n=140\n",
    "for i in range(1,n):\n",
    "    scrape_website(i)\n",
    "    "
   ]
  },
  {
   "cell_type": "code",
   "execution_count": 19,
   "metadata": {
    "scrolled": false
   },
   "outputs": [
    {
     "name": "stderr",
     "output_type": "stream",
     "text": [
      "<ipython-input-19-9dca358b5720>:7: DeprecationWarning: The default dtype for empty Series will be 'object' instead of 'float64' in a future version. Specify a dtype explicitly to silence this warning.\n",
      "  data['target']=pd.Series(targets)\n"
     ]
    }
   ],
   "source": [
    "#Create the data frame\n",
    "data=pd.DataFrame(columns=['author','fact','source','date','target'])\n",
    "data['author']=authors\n",
    "data['fact']=pd.Series(facts)\n",
    "data['source']=pd.Series(source)\n",
    "data['date']=pd.Series(dates)\n",
    "data['target']=pd.Series(targets)\n"
   ]
  },
  {
   "cell_type": "code",
   "execution_count": 20,
   "metadata": {},
   "outputs": [],
   "source": [
    "data_false=data.fillna('False')"
   ]
  },
  {
   "cell_type": "code",
   "execution_count": 21,
   "metadata": {
    "scrolled": true
   },
   "outputs": [
    {
     "data": {
      "text/html": [
       "<div>\n",
       "<style scoped>\n",
       "    .dataframe tbody tr th:only-of-type {\n",
       "        vertical-align: middle;\n",
       "    }\n",
       "\n",
       "    .dataframe tbody tr th {\n",
       "        vertical-align: top;\n",
       "    }\n",
       "\n",
       "    .dataframe thead th {\n",
       "        text-align: right;\n",
       "    }\n",
       "</style>\n",
       "<table border=\"1\" class=\"dataframe\">\n",
       "  <thead>\n",
       "    <tr style=\"text-align: right;\">\n",
       "      <th></th>\n",
       "      <th>author</th>\n",
       "      <th>fact</th>\n",
       "      <th>source</th>\n",
       "      <th>date</th>\n",
       "      <th>target</th>\n",
       "    </tr>\n",
       "  </thead>\n",
       "  <tbody>\n",
       "    <tr>\n",
       "      <th>0</th>\n",
       "      <td>TomKertscher</td>\n",
       "      <td>“Arizona and Georgia now have the proof,” Joe ...</td>\n",
       "      <td>Viral image</td>\n",
       "      <td>July2021</td>\n",
       "      <td>False</td>\n",
       "    </tr>\n",
       "    <tr>\n",
       "      <th>1</th>\n",
       "      <td>MoniqueCuret</td>\n",
       "      <td>“45,000 confirmed dead from the COVID-19 shots...</td>\n",
       "      <td>Instagram posts</td>\n",
       "      <td>July2021</td>\n",
       "      <td>False</td>\n",
       "    </tr>\n",
       "    <tr>\n",
       "      <th>2</th>\n",
       "      <td>KelseyTamakloe</td>\n",
       "      <td>“Americans not vaccinated before 2022 will be ...</td>\n",
       "      <td>Instagram posts</td>\n",
       "      <td>July2021</td>\n",
       "      <td>False</td>\n",
       "    </tr>\n",
       "    <tr>\n",
       "      <th>3</th>\n",
       "      <td>TomKertscher</td>\n",
       "      <td>\"Biden concedes 6 million votes.\"</td>\n",
       "      <td>Facebook posts</td>\n",
       "      <td>July2021</td>\n",
       "      <td>False</td>\n",
       "    </tr>\n",
       "    <tr>\n",
       "      <th>4</th>\n",
       "      <td>KelseyTamakloe</td>\n",
       "      <td>Olympic Village has cardboard beds “to prevent...</td>\n",
       "      <td>Tweets</td>\n",
       "      <td>July2021</td>\n",
       "      <td>False</td>\n",
       "    </tr>\n",
       "    <tr>\n",
       "      <th>...</th>\n",
       "      <td>...</td>\n",
       "      <td>...</td>\n",
       "      <td>...</td>\n",
       "      <td>...</td>\n",
       "      <td>...</td>\n",
       "    </tr>\n",
       "    <tr>\n",
       "      <th>8995</th>\n",
       "      <td>TomKertscher</td>\n",
       "      <td>Video shows the Jan. 6 Capitol riot was a “com...</td>\n",
       "      <td>Bloggers</td>\n",
       "      <td>June2021</td>\n",
       "      <td>False</td>\n",
       "    </tr>\n",
       "    <tr>\n",
       "      <th>8996</th>\n",
       "      <td>CiaraO'Rourke</td>\n",
       "      <td>Says a photo shows Michelle Obama as a man pri...</td>\n",
       "      <td>Instagram posts</td>\n",
       "      <td>June2021</td>\n",
       "      <td>False</td>\n",
       "    </tr>\n",
       "    <tr>\n",
       "      <th>8997</th>\n",
       "      <td>GabrielleSettles</td>\n",
       "      <td>People with the COVID-19 vaccine are being \"tr...</td>\n",
       "      <td>Hal Turner Radio Show</td>\n",
       "      <td>May2021</td>\n",
       "      <td>False</td>\n",
       "    </tr>\n",
       "    <tr>\n",
       "      <th>8998</th>\n",
       "      <td>AndyNguyen</td>\n",
       "      <td>Says BLM activist Sasha Johnson tweeted, “The ...</td>\n",
       "      <td>Facebook posts</td>\n",
       "      <td>May2021</td>\n",
       "      <td>False</td>\n",
       "    </tr>\n",
       "    <tr>\n",
       "      <th>8999</th>\n",
       "      <td>MichaelMajchrowicz</td>\n",
       "      <td>“Boom! Georgia 1st to decertify election.”</td>\n",
       "      <td>Facebook posts</td>\n",
       "      <td>May2021</td>\n",
       "      <td>False</td>\n",
       "    </tr>\n",
       "  </tbody>\n",
       "</table>\n",
       "<p>9000 rows × 5 columns</p>\n",
       "</div>"
      ],
      "text/plain": [
       "                  author                                               fact  \\\n",
       "0           TomKertscher  “Arizona and Georgia now have the proof,” Joe ...   \n",
       "1           MoniqueCuret  “45,000 confirmed dead from the COVID-19 shots...   \n",
       "2         KelseyTamakloe  “Americans not vaccinated before 2022 will be ...   \n",
       "3           TomKertscher                  \"Biden concedes 6 million votes.\"   \n",
       "4         KelseyTamakloe  Olympic Village has cardboard beds “to prevent...   \n",
       "...                  ...                                                ...   \n",
       "8995        TomKertscher  Video shows the Jan. 6 Capitol riot was a “com...   \n",
       "8996       CiaraO'Rourke  Says a photo shows Michelle Obama as a man pri...   \n",
       "8997    GabrielleSettles  People with the COVID-19 vaccine are being \"tr...   \n",
       "8998          AndyNguyen  Says BLM activist Sasha Johnson tweeted, “The ...   \n",
       "8999  MichaelMajchrowicz         “Boom! Georgia 1st to decertify election.”   \n",
       "\n",
       "                     source      date target  \n",
       "0               Viral image  July2021  False  \n",
       "1           Instagram posts  July2021  False  \n",
       "2           Instagram posts  July2021  False  \n",
       "3            Facebook posts  July2021  False  \n",
       "4                    Tweets  July2021  False  \n",
       "...                     ...       ...    ...  \n",
       "8995               Bloggers  June2021  False  \n",
       "8996        Instagram posts  June2021  False  \n",
       "8997  Hal Turner Radio Show   May2021  False  \n",
       "8998         Facebook posts   May2021  False  \n",
       "8999         Facebook posts   May2021  False  \n",
       "\n",
       "[9000 rows x 5 columns]"
      ]
     },
     "execution_count": 21,
     "metadata": {},
     "output_type": "execute_result"
    }
   ],
   "source": [
    "#display data\n",
    "data_false"
   ]
  },
  {
   "cell_type": "code",
   "execution_count": 23,
   "metadata": {},
   "outputs": [],
   "source": [
    "data_false.to_csv(r\"C:\\Users\\Vikram\\Desktop\\business analytics\\final project\\data_false1.csv\",index=False)"
   ]
  },
  {
   "cell_type": "code",
   "execution_count": null,
   "metadata": {},
   "outputs": [],
   "source": []
  },
  {
   "cell_type": "code",
   "execution_count": null,
   "metadata": {},
   "outputs": [],
   "source": []
  },
  {
   "cell_type": "code",
   "execution_count": null,
   "metadata": {},
   "outputs": [],
   "source": []
  }
 ],
 "metadata": {
  "kernelspec": {
   "display_name": "Python 3",
   "language": "python",
   "name": "python3"
  },
  "language_info": {
   "codemirror_mode": {
    "name": "ipython",
    "version": 3
   },
   "file_extension": ".py",
   "mimetype": "text/x-python",
   "name": "python",
   "nbconvert_exporter": "python",
   "pygments_lexer": "ipython3",
   "version": "3.8.5"
  }
 },
 "nbformat": 4,
 "nbformat_minor": 4
}
