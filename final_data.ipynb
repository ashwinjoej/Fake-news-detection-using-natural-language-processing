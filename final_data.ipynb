{
 "cells": [
  {
   "cell_type": "code",
   "execution_count": 1,
   "metadata": {},
   "outputs": [],
   "source": [
    "import pandas as pd"
   ]
  },
  {
   "cell_type": "code",
   "execution_count": 4,
   "metadata": {
    "scrolled": true
   },
   "outputs": [
    {
     "data": {
      "text/html": [
       "<div>\n",
       "<style scoped>\n",
       "    .dataframe tbody tr th:only-of-type {\n",
       "        vertical-align: middle;\n",
       "    }\n",
       "\n",
       "    .dataframe tbody tr th {\n",
       "        vertical-align: top;\n",
       "    }\n",
       "\n",
       "    .dataframe thead th {\n",
       "        text-align: right;\n",
       "    }\n",
       "</style>\n",
       "<table border=\"1\" class=\"dataframe\">\n",
       "  <thead>\n",
       "    <tr style=\"text-align: right;\">\n",
       "      <th></th>\n",
       "      <th>author</th>\n",
       "      <th>fact</th>\n",
       "      <th>source</th>\n",
       "      <th>date</th>\n",
       "      <th>target</th>\n",
       "    </tr>\n",
       "  </thead>\n",
       "  <tbody>\n",
       "    <tr>\n",
       "      <th>0</th>\n",
       "      <td>MadelineHeim</td>\n",
       "      <td>“It’s been over 50 years since minimum (wage) ...</td>\n",
       "      <td>Mandela Barnes</td>\n",
       "      <td>June2021</td>\n",
       "      <td>True</td>\n",
       "    </tr>\n",
       "    <tr>\n",
       "      <th>1</th>\n",
       "      <td>LauraSchulte</td>\n",
       "      <td>“We have a record 9.3 million job openings in ...</td>\n",
       "      <td>Glenn Grothman</td>\n",
       "      <td>June2021</td>\n",
       "      <td>True</td>\n",
       "    </tr>\n",
       "    <tr>\n",
       "      <th>2</th>\n",
       "      <td>D.L.Davis</td>\n",
       "      <td>“Before the pandemic, just over 40,000 were on...</td>\n",
       "      <td>Mark Born</td>\n",
       "      <td>June2021</td>\n",
       "      <td>True</td>\n",
       "    </tr>\n",
       "    <tr>\n",
       "      <th>3</th>\n",
       "      <td>JohnPullano</td>\n",
       "      <td>It’s not currently “legal for a New York state...</td>\n",
       "      <td>Lorraine Lewandrowski</td>\n",
       "      <td>June2021</td>\n",
       "      <td>True</td>\n",
       "    </tr>\n",
       "    <tr>\n",
       "      <th>4</th>\n",
       "      <td>MadelineHeim</td>\n",
       "      <td>“Since 1978, CEO compensation rose over 1,000%...</td>\n",
       "      <td>Mandela Barnes</td>\n",
       "      <td>June2021</td>\n",
       "      <td>True</td>\n",
       "    </tr>\n",
       "  </tbody>\n",
       "</table>\n",
       "</div>"
      ],
      "text/plain": [
       "         author                                               fact  \\\n",
       "0  MadelineHeim  “It’s been over 50 years since minimum (wage) ...   \n",
       "1  LauraSchulte  “We have a record 9.3 million job openings in ...   \n",
       "2     D.L.Davis  “Before the pandemic, just over 40,000 were on...   \n",
       "3   JohnPullano  It’s not currently “legal for a New York state...   \n",
       "4  MadelineHeim  “Since 1978, CEO compensation rose over 1,000%...   \n",
       "\n",
       "                  source      date  target  \n",
       "0         Mandela Barnes  June2021    True  \n",
       "1         Glenn Grothman  June2021    True  \n",
       "2              Mark Born  June2021    True  \n",
       "3  Lorraine Lewandrowski  June2021    True  \n",
       "4         Mandela Barnes  June2021    True  "
      ]
     },
     "execution_count": 4,
     "metadata": {},
     "output_type": "execute_result"
    }
   ],
   "source": [
    "df1=pd.read_csv(r\"C:\\Users\\Vikram\\Desktop\\business analytics\\final project\\data_true1.csv\")\n",
    "df1.head()"
   ]
  },
  {
   "cell_type": "code",
   "execution_count": 5,
   "metadata": {},
   "outputs": [
    {
     "data": {
      "text/html": [
       "<div>\n",
       "<style scoped>\n",
       "    .dataframe tbody tr th:only-of-type {\n",
       "        vertical-align: middle;\n",
       "    }\n",
       "\n",
       "    .dataframe tbody tr th {\n",
       "        vertical-align: top;\n",
       "    }\n",
       "\n",
       "    .dataframe thead th {\n",
       "        text-align: right;\n",
       "    }\n",
       "</style>\n",
       "<table border=\"1\" class=\"dataframe\">\n",
       "  <thead>\n",
       "    <tr style=\"text-align: right;\">\n",
       "      <th></th>\n",
       "      <th>author</th>\n",
       "      <th>fact</th>\n",
       "      <th>source</th>\n",
       "      <th>date</th>\n",
       "      <th>target</th>\n",
       "    </tr>\n",
       "  </thead>\n",
       "  <tbody>\n",
       "    <tr>\n",
       "      <th>0</th>\n",
       "      <td>TomKertscher</td>\n",
       "      <td>“Arizona and Georgia now have the proof,” Joe ...</td>\n",
       "      <td>Viral image</td>\n",
       "      <td>July2021</td>\n",
       "      <td>False</td>\n",
       "    </tr>\n",
       "    <tr>\n",
       "      <th>1</th>\n",
       "      <td>MoniqueCuret</td>\n",
       "      <td>“45,000 confirmed dead from the COVID-19 shots...</td>\n",
       "      <td>Instagram posts</td>\n",
       "      <td>July2021</td>\n",
       "      <td>False</td>\n",
       "    </tr>\n",
       "    <tr>\n",
       "      <th>2</th>\n",
       "      <td>KelseyTamakloe</td>\n",
       "      <td>“Americans not vaccinated before 2022 will be ...</td>\n",
       "      <td>Instagram posts</td>\n",
       "      <td>July2021</td>\n",
       "      <td>False</td>\n",
       "    </tr>\n",
       "    <tr>\n",
       "      <th>3</th>\n",
       "      <td>TomKertscher</td>\n",
       "      <td>\"Biden concedes 6 million votes.\"</td>\n",
       "      <td>Facebook posts</td>\n",
       "      <td>July2021</td>\n",
       "      <td>False</td>\n",
       "    </tr>\n",
       "    <tr>\n",
       "      <th>4</th>\n",
       "      <td>KelseyTamakloe</td>\n",
       "      <td>Olympic Village has cardboard beds “to prevent...</td>\n",
       "      <td>Tweets</td>\n",
       "      <td>July2021</td>\n",
       "      <td>False</td>\n",
       "    </tr>\n",
       "  </tbody>\n",
       "</table>\n",
       "</div>"
      ],
      "text/plain": [
       "           author                                               fact  \\\n",
       "0    TomKertscher  “Arizona and Georgia now have the proof,” Joe ...   \n",
       "1    MoniqueCuret  “45,000 confirmed dead from the COVID-19 shots...   \n",
       "2  KelseyTamakloe  “Americans not vaccinated before 2022 will be ...   \n",
       "3    TomKertscher                  \"Biden concedes 6 million votes.\"   \n",
       "4  KelseyTamakloe  Olympic Village has cardboard beds “to prevent...   \n",
       "\n",
       "            source      date  target  \n",
       "0      Viral image  July2021   False  \n",
       "1  Instagram posts  July2021   False  \n",
       "2  Instagram posts  July2021   False  \n",
       "3   Facebook posts  July2021   False  \n",
       "4           Tweets  July2021   False  "
      ]
     },
     "execution_count": 5,
     "metadata": {},
     "output_type": "execute_result"
    }
   ],
   "source": [
    "df2=pd.read_csv(r\"C:\\Users\\Vikram\\Desktop\\business analytics\\final project\\data_false1.csv\")\n",
    "df2.head()"
   ]
  },
  {
   "cell_type": "code",
   "execution_count": 7,
   "metadata": {
    "scrolled": true
   },
   "outputs": [],
   "source": [
    "Fakenews=pd.concat([df1,df2])"
   ]
  },
  {
   "cell_type": "code",
   "execution_count": 11,
   "metadata": {
    "scrolled": false
   },
   "outputs": [
    {
     "name": "stdout",
     "output_type": "stream",
     "text": [
      "<class 'pandas.core.frame.DataFrame'>\n",
      "Int64Index: 18210 entries, 0 to 8999\n",
      "Data columns (total 5 columns):\n",
      " #   Column  Non-Null Count  Dtype \n",
      "---  ------  --------------  ----- \n",
      " 0   author  18210 non-null  object\n",
      " 1   fact    18210 non-null  object\n",
      " 2   source  18210 non-null  object\n",
      " 3   date    18210 non-null  object\n",
      " 4   target  18210 non-null  bool  \n",
      "dtypes: bool(1), object(4)\n",
      "memory usage: 729.1+ KB\n"
     ]
    }
   ],
   "source": [
    "Fakenews.info()"
   ]
  },
  {
   "cell_type": "code",
   "execution_count": 12,
   "metadata": {},
   "outputs": [],
   "source": [
    "Fakenews.to_csv(r\"C:\\Users\\Vikram\\Desktop\\business analytics\\final project\\fake_news.csv\",index=False)"
   ]
  },
  {
   "cell_type": "code",
   "execution_count": null,
   "metadata": {},
   "outputs": [],
   "source": []
  }
 ],
 "metadata": {
  "kernelspec": {
   "display_name": "Python 3",
   "language": "python",
   "name": "python3"
  },
  "language_info": {
   "codemirror_mode": {
    "name": "ipython",
    "version": 3
   },
   "file_extension": ".py",
   "mimetype": "text/x-python",
   "name": "python",
   "nbconvert_exporter": "python",
   "pygments_lexer": "ipython3",
   "version": "3.8.5"
  }
 },
 "nbformat": 4,
 "nbformat_minor": 4
}
