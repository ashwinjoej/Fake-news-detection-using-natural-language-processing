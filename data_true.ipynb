{
 "cells": [
  {
   "cell_type": "code",
   "execution_count": 1,
   "metadata": {},
   "outputs": [],
   "source": [
    "# scrapping real and fake news data from politifact.com\n"
   ]
  },
  {
   "cell_type": "code",
   "execution_count": 22,
   "metadata": {},
   "outputs": [],
   "source": [
    "#import the libraries\n",
    "from bs4 import BeautifulSoup\n",
    "import pandas as pd\n",
    "import requests\n",
    "import urllib.request\n",
    "import time"
   ]
  },
  {
   "cell_type": "code",
   "execution_count": 23,
   "metadata": {},
   "outputs": [],
   "source": [
    "#list to store the scrapped data\n",
    "authors=[]\n",
    "dates=[]\n",
    "facts=[]\n",
    "source=[]\n",
    "targets=[]"
   ]
  },
  {
   "cell_type": "code",
   "execution_count": 24,
   "metadata": {},
   "outputs": [],
   "source": [
    "#create a function to scrape the website\n",
    "def scrape_website(page_number):\n",
    "    page_num=str(page_number)\n",
    "    URL='https://www.politifact.com/factchecks/list/?ruling=true'\n",
    "    webpage=requests.get(URL)\n",
    "    soup=BeautifulSoup(webpage.text,'html.parser')\n",
    "    #Get the location of datas\n",
    "    statement_footer=soup.find_all('footer',attrs={'class':'m-statement__footer'})#Location of the author\n",
    "    statement_quote=soup.find_all('div',attrs={'class':'m-statement__quote'})# location of the fact\n",
    "    statement_meta=soup.find_all('div',attrs={'class':'m-statement__meta'})# location of source\n",
    "    statement_meter=soup.find_all('div',attrs={'class':'m-statement__meter'})# location of target\n",
    "    #Loop the statement__footer\n",
    "    for i in statement_footer:\n",
    "        link1=i.text.strip()\n",
    "        name_and_date=link1.split()\n",
    "        first_name=name_and_date[1]\n",
    "        last_name=name_and_date[2]\n",
    "        full_name=first_name+''+last_name\n",
    "        month=name_and_date[4]\n",
    "        day=name_and_date[5]\n",
    "        year=name_and_date[6]\n",
    "        date=month+''+year\n",
    "        dates.append(date)\n",
    "        authors.append(full_name)\n",
    "        #Loop the statement_quote\n",
    "        for i in statement_quote:\n",
    "            link2=i.find_all('a')\n",
    "            fact_text=link2[0].text.strip()\n",
    "            facts.append(fact_text)\n",
    "        #Loop the statement__meta\n",
    "        for i in statement_meta:\n",
    "            link3=i.find_all('a')\n",
    "            source_text=link3[0].text.strip()\n",
    "            source.append(source_text)\n",
    "        #Loop the target\n",
    "        for i in targets:\n",
    "            link4=i.find('div',attrs={'class':'c-image'}).find('img').get('alt')\n",
    "            \n",
    "            targets.append(link4)\n",
    "        "
   ]
  },
  {
   "cell_type": "code",
   "execution_count": 25,
   "metadata": {
    "scrolled": false
   },
   "outputs": [
    {
     "name": "stdout",
     "output_type": "stream",
     "text": [
      "[]\n"
     ]
    }
   ],
   "source": [
    "print(targets)"
   ]
  },
  {
   "cell_type": "code",
   "execution_count": 26,
   "metadata": {
    "scrolled": true
   },
   "outputs": [
    {
     "name": "stdout",
     "output_type": "stream",
     "text": [
      "[]\n"
     ]
    }
   ],
   "source": [
    "print(source)"
   ]
  },
  {
   "cell_type": "code",
   "execution_count": 48,
   "metadata": {},
   "outputs": [],
   "source": [
    "#Loop the \"n-1\" webpages to scrap the data\n",
    "\n",
    "n=140\n",
    "for i in range(1,n):\n",
    "    scrape_website(i)\n",
    "    "
   ]
  },
  {
   "cell_type": "code",
   "execution_count": 49,
   "metadata": {
    "scrolled": false
   },
   "outputs": [
    {
     "name": "stderr",
     "output_type": "stream",
     "text": [
      "<ipython-input-49-9dca358b5720>:7: DeprecationWarning: The default dtype for empty Series will be 'object' instead of 'float64' in a future version. Specify a dtype explicitly to silence this warning.\n",
      "  data['target']=pd.Series(targets)\n"
     ]
    }
   ],
   "source": [
    "#Create the data frame\n",
    "data=pd.DataFrame(columns=['author','fact','source','date','target'])\n",
    "data['author']=authors\n",
    "data['fact']=pd.Series(facts)\n",
    "data['source']=pd.Series(source)\n",
    "data['date']=pd.Series(dates)\n",
    "data['target']=pd.Series(targets)\n"
   ]
  },
  {
   "cell_type": "code",
   "execution_count": 50,
   "metadata": {},
   "outputs": [],
   "source": [
    "data_true=data.fillna('True')"
   ]
  },
  {
   "cell_type": "code",
   "execution_count": 51,
   "metadata": {
    "scrolled": true
   },
   "outputs": [
    {
     "data": {
      "text/html": [
       "<div>\n",
       "<style scoped>\n",
       "    .dataframe tbody tr th:only-of-type {\n",
       "        vertical-align: middle;\n",
       "    }\n",
       "\n",
       "    .dataframe tbody tr th {\n",
       "        vertical-align: top;\n",
       "    }\n",
       "\n",
       "    .dataframe thead th {\n",
       "        text-align: right;\n",
       "    }\n",
       "</style>\n",
       "<table border=\"1\" class=\"dataframe\">\n",
       "  <thead>\n",
       "    <tr style=\"text-align: right;\">\n",
       "      <th></th>\n",
       "      <th>author</th>\n",
       "      <th>fact</th>\n",
       "      <th>source</th>\n",
       "      <th>date</th>\n",
       "      <th>target</th>\n",
       "    </tr>\n",
       "  </thead>\n",
       "  <tbody>\n",
       "    <tr>\n",
       "      <th>0</th>\n",
       "      <td>MadelineHeim</td>\n",
       "      <td>“It’s been over 50 years since minimum (wage) ...</td>\n",
       "      <td>Mandela Barnes</td>\n",
       "      <td>June2021</td>\n",
       "      <td>True</td>\n",
       "    </tr>\n",
       "    <tr>\n",
       "      <th>1</th>\n",
       "      <td>LauraSchulte</td>\n",
       "      <td>“We have a record 9.3 million job openings in ...</td>\n",
       "      <td>Glenn Grothman</td>\n",
       "      <td>June2021</td>\n",
       "      <td>True</td>\n",
       "    </tr>\n",
       "    <tr>\n",
       "      <th>2</th>\n",
       "      <td>D.L.Davis</td>\n",
       "      <td>“Before the pandemic, just over 40,000 were on...</td>\n",
       "      <td>Mark Born</td>\n",
       "      <td>June2021</td>\n",
       "      <td>True</td>\n",
       "    </tr>\n",
       "    <tr>\n",
       "      <th>3</th>\n",
       "      <td>JohnPullano</td>\n",
       "      <td>It’s not currently “legal for a New York state...</td>\n",
       "      <td>Lorraine Lewandrowski</td>\n",
       "      <td>June2021</td>\n",
       "      <td>True</td>\n",
       "    </tr>\n",
       "    <tr>\n",
       "      <th>4</th>\n",
       "      <td>MadelineHeim</td>\n",
       "      <td>“Since 1978, CEO compensation rose over 1,000%...</td>\n",
       "      <td>Mandela Barnes</td>\n",
       "      <td>June2021</td>\n",
       "      <td>True</td>\n",
       "    </tr>\n",
       "    <tr>\n",
       "      <th>...</th>\n",
       "      <td>...</td>\n",
       "      <td>...</td>\n",
       "      <td>...</td>\n",
       "      <td>...</td>\n",
       "      <td>...</td>\n",
       "    </tr>\n",
       "    <tr>\n",
       "      <th>9205</th>\n",
       "      <td>BrandonMulder</td>\n",
       "      <td>“Pipelines do not freeze. They are naturally i...</td>\n",
       "      <td>Energy Transfer</td>\n",
       "      <td>March2021</td>\n",
       "      <td>True</td>\n",
       "    </tr>\n",
       "    <tr>\n",
       "      <th>9206</th>\n",
       "      <td>HaleyBeMiller</td>\n",
       "      <td>“The National Academy of Medicine points to a ...</td>\n",
       "      <td>Chris Kapenga</td>\n",
       "      <td>March2021</td>\n",
       "      <td>True</td>\n",
       "    </tr>\n",
       "    <tr>\n",
       "      <th>9207</th>\n",
       "      <td>VictoriaKnight</td>\n",
       "      <td>“Becerra supports Bernie’s government takeover...</td>\n",
       "      <td>Tom Cotton</td>\n",
       "      <td>March2021</td>\n",
       "      <td>True</td>\n",
       "    </tr>\n",
       "    <tr>\n",
       "      <th>9208</th>\n",
       "      <td>JessicaCalefati</td>\n",
       "      <td>“We’re the only major gas-producing state in t...</td>\n",
       "      <td>Tom Wolf</td>\n",
       "      <td>February2021</td>\n",
       "      <td>True</td>\n",
       "    </tr>\n",
       "    <tr>\n",
       "      <th>9209</th>\n",
       "      <td>MiriamValverde</td>\n",
       "      <td>“There is a direct connection between discrimi...</td>\n",
       "      <td>Cory Booker</td>\n",
       "      <td>February2021</td>\n",
       "      <td>True</td>\n",
       "    </tr>\n",
       "  </tbody>\n",
       "</table>\n",
       "<p>9210 rows × 5 columns</p>\n",
       "</div>"
      ],
      "text/plain": [
       "               author                                               fact  \\\n",
       "0        MadelineHeim  “It’s been over 50 years since minimum (wage) ...   \n",
       "1        LauraSchulte  “We have a record 9.3 million job openings in ...   \n",
       "2           D.L.Davis  “Before the pandemic, just over 40,000 were on...   \n",
       "3         JohnPullano  It’s not currently “legal for a New York state...   \n",
       "4        MadelineHeim  “Since 1978, CEO compensation rose over 1,000%...   \n",
       "...               ...                                                ...   \n",
       "9205    BrandonMulder  “Pipelines do not freeze. They are naturally i...   \n",
       "9206    HaleyBeMiller  “The National Academy of Medicine points to a ...   \n",
       "9207   VictoriaKnight  “Becerra supports Bernie’s government takeover...   \n",
       "9208  JessicaCalefati  “We’re the only major gas-producing state in t...   \n",
       "9209   MiriamValverde  “There is a direct connection between discrimi...   \n",
       "\n",
       "                     source          date target  \n",
       "0            Mandela Barnes      June2021   True  \n",
       "1            Glenn Grothman      June2021   True  \n",
       "2                 Mark Born      June2021   True  \n",
       "3     Lorraine Lewandrowski      June2021   True  \n",
       "4            Mandela Barnes      June2021   True  \n",
       "...                     ...           ...    ...  \n",
       "9205        Energy Transfer     March2021   True  \n",
       "9206          Chris Kapenga     March2021   True  \n",
       "9207             Tom Cotton     March2021   True  \n",
       "9208               Tom Wolf  February2021   True  \n",
       "9209            Cory Booker  February2021   True  \n",
       "\n",
       "[9210 rows x 5 columns]"
      ]
     },
     "execution_count": 51,
     "metadata": {},
     "output_type": "execute_result"
    }
   ],
   "source": [
    "#display data\n",
    "data_true"
   ]
  },
  {
   "cell_type": "code",
   "execution_count": 55,
   "metadata": {
    "scrolled": false
   },
   "outputs": [],
   "source": [
    "data_true.to_csv(r\"C:\\Users\\Vikram\\Desktop\\business analytics\\final project\\data_true1.csv\",index=False)"
   ]
  },
  {
   "cell_type": "code",
   "execution_count": null,
   "metadata": {},
   "outputs": [],
   "source": []
  },
  {
   "cell_type": "code",
   "execution_count": null,
   "metadata": {},
   "outputs": [],
   "source": []
  },
  {
   "cell_type": "code",
   "execution_count": null,
   "metadata": {},
   "outputs": [],
   "source": []
  }
 ],
 "metadata": {
  "kernelspec": {
   "display_name": "Python 3",
   "language": "python",
   "name": "python3"
  },
  "language_info": {
   "codemirror_mode": {
    "name": "ipython",
    "version": 3
   },
   "file_extension": ".py",
   "mimetype": "text/x-python",
   "name": "python",
   "nbconvert_exporter": "python",
   "pygments_lexer": "ipython3",
   "version": "3.8.5"
  }
 },
 "nbformat": 4,
 "nbformat_minor": 4
}
